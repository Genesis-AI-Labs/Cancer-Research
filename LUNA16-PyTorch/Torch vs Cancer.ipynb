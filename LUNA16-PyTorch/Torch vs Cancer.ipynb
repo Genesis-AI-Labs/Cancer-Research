{
 "cells": [
  {
   "cell_type": "markdown",
   "id": "604d1fe1",
   "metadata": {},
   "source": [
    "## Loading Libraries"
   ]
  },
  {
   "cell_type": "code",
   "execution_count": 1,
   "id": "1531fd80",
   "metadata": {},
   "outputs": [],
   "source": [
    "import os\n",
    "import glob\n",
    "import copy\n",
    "import time\n",
    "import numpy as np\n",
    "import pandas as pd\n",
    "\n",
    "from tqdm.notebook import tqdm\n",
    "from collections import namedtuple\n",
    "import SimpleITK as sitk\n",
    "\n",
    "import torch\n",
    "from torch.utils.data import Dataset, DataLoader\n",
    "import torch.nn as nn\n",
    "import torch.optim as optim"
   ]
  },
  {
   "cell_type": "markdown",
   "id": "2aeb6b52",
   "metadata": {},
   "source": [
    "## Explore Dataset"
   ]
  },
  {
   "cell_type": "code",
   "execution_count": 2,
   "id": "0e098b25",
   "metadata": {},
   "outputs": [
    {
     "data": {
      "text/html": [
       "<div>\n",
       "<style scoped>\n",
       "    .dataframe tbody tr th:only-of-type {\n",
       "        vertical-align: middle;\n",
       "    }\n",
       "\n",
       "    .dataframe tbody tr th {\n",
       "        vertical-align: top;\n",
       "    }\n",
       "\n",
       "    .dataframe thead th {\n",
       "        text-align: right;\n",
       "    }\n",
       "</style>\n",
       "<table border=\"1\" class=\"dataframe\">\n",
       "  <thead>\n",
       "    <tr style=\"text-align: right;\">\n",
       "      <th></th>\n",
       "      <th>seriesuid</th>\n",
       "      <th>coordX</th>\n",
       "      <th>coordY</th>\n",
       "      <th>coordZ</th>\n",
       "      <th>diameter_mm</th>\n",
       "    </tr>\n",
       "  </thead>\n",
       "  <tbody>\n",
       "    <tr>\n",
       "      <th>0</th>\n",
       "      <td>1.3.6.1.4.1.14519.5.2.1.6279.6001.100225287222...</td>\n",
       "      <td>-128.699421</td>\n",
       "      <td>-175.319272</td>\n",
       "      <td>-298.387506</td>\n",
       "      <td>5.651471</td>\n",
       "    </tr>\n",
       "    <tr>\n",
       "      <th>1</th>\n",
       "      <td>1.3.6.1.4.1.14519.5.2.1.6279.6001.100225287222...</td>\n",
       "      <td>103.783651</td>\n",
       "      <td>-211.925149</td>\n",
       "      <td>-227.121250</td>\n",
       "      <td>4.224708</td>\n",
       "    </tr>\n",
       "    <tr>\n",
       "      <th>2</th>\n",
       "      <td>1.3.6.1.4.1.14519.5.2.1.6279.6001.100398138793...</td>\n",
       "      <td>69.639017</td>\n",
       "      <td>-140.944586</td>\n",
       "      <td>876.374496</td>\n",
       "      <td>5.786348</td>\n",
       "    </tr>\n",
       "    <tr>\n",
       "      <th>3</th>\n",
       "      <td>1.3.6.1.4.1.14519.5.2.1.6279.6001.100621383016...</td>\n",
       "      <td>-24.013824</td>\n",
       "      <td>192.102405</td>\n",
       "      <td>-391.081276</td>\n",
       "      <td>8.143262</td>\n",
       "    </tr>\n",
       "    <tr>\n",
       "      <th>4</th>\n",
       "      <td>1.3.6.1.4.1.14519.5.2.1.6279.6001.100621383016...</td>\n",
       "      <td>2.441547</td>\n",
       "      <td>172.464881</td>\n",
       "      <td>-405.493732</td>\n",
       "      <td>18.545150</td>\n",
       "    </tr>\n",
       "  </tbody>\n",
       "</table>\n",
       "</div>"
      ],
      "text/plain": [
       "                                           seriesuid      coordX      coordY  \\\n",
       "0  1.3.6.1.4.1.14519.5.2.1.6279.6001.100225287222... -128.699421 -175.319272   \n",
       "1  1.3.6.1.4.1.14519.5.2.1.6279.6001.100225287222...  103.783651 -211.925149   \n",
       "2  1.3.6.1.4.1.14519.5.2.1.6279.6001.100398138793...   69.639017 -140.944586   \n",
       "3  1.3.6.1.4.1.14519.5.2.1.6279.6001.100621383016...  -24.013824  192.102405   \n",
       "4  1.3.6.1.4.1.14519.5.2.1.6279.6001.100621383016...    2.441547  172.464881   \n",
       "\n",
       "       coordZ  diameter_mm  \n",
       "0 -298.387506     5.651471  \n",
       "1 -227.121250     4.224708  \n",
       "2  876.374496     5.786348  \n",
       "3 -391.081276     8.143262  \n",
       "4 -405.493732    18.545150  "
      ]
     },
     "execution_count": 2,
     "metadata": {},
     "output_type": "execute_result"
    }
   ],
   "source": [
    "df_annotations = pd.read_csv('LUNA/annotations.csv')\n",
    "df_annotations.head()"
   ]
  },
  {
   "cell_type": "code",
   "execution_count": 3,
   "id": "306fd63c",
   "metadata": {},
   "outputs": [
    {
     "data": {
      "text/plain": [
       "(1186, 5)"
      ]
     },
     "execution_count": 3,
     "metadata": {},
     "output_type": "execute_result"
    }
   ],
   "source": [
    "df_annotations.shape"
   ]
  },
  {
   "cell_type": "code",
   "execution_count": 4,
   "id": "f4bd748e",
   "metadata": {},
   "outputs": [
    {
     "data": {
      "text/html": [
       "<div>\n",
       "<style scoped>\n",
       "    .dataframe tbody tr th:only-of-type {\n",
       "        vertical-align: middle;\n",
       "    }\n",
       "\n",
       "    .dataframe tbody tr th {\n",
       "        vertical-align: top;\n",
       "    }\n",
       "\n",
       "    .dataframe thead th {\n",
       "        text-align: right;\n",
       "    }\n",
       "</style>\n",
       "<table border=\"1\" class=\"dataframe\">\n",
       "  <thead>\n",
       "    <tr style=\"text-align: right;\">\n",
       "      <th></th>\n",
       "      <th>seriesuid</th>\n",
       "      <th>coordX</th>\n",
       "      <th>coordY</th>\n",
       "      <th>coordZ</th>\n",
       "      <th>class</th>\n",
       "    </tr>\n",
       "  </thead>\n",
       "  <tbody>\n",
       "    <tr>\n",
       "      <th>0</th>\n",
       "      <td>1.3.6.1.4.1.14519.5.2.1.6279.6001.100225287222...</td>\n",
       "      <td>-56.08</td>\n",
       "      <td>-67.85</td>\n",
       "      <td>-311.92</td>\n",
       "      <td>0</td>\n",
       "    </tr>\n",
       "    <tr>\n",
       "      <th>1</th>\n",
       "      <td>1.3.6.1.4.1.14519.5.2.1.6279.6001.100225287222...</td>\n",
       "      <td>53.21</td>\n",
       "      <td>-244.41</td>\n",
       "      <td>-245.17</td>\n",
       "      <td>0</td>\n",
       "    </tr>\n",
       "    <tr>\n",
       "      <th>2</th>\n",
       "      <td>1.3.6.1.4.1.14519.5.2.1.6279.6001.100225287222...</td>\n",
       "      <td>103.66</td>\n",
       "      <td>-121.80</td>\n",
       "      <td>-286.62</td>\n",
       "      <td>0</td>\n",
       "    </tr>\n",
       "    <tr>\n",
       "      <th>3</th>\n",
       "      <td>1.3.6.1.4.1.14519.5.2.1.6279.6001.100225287222...</td>\n",
       "      <td>-33.66</td>\n",
       "      <td>-72.75</td>\n",
       "      <td>-308.41</td>\n",
       "      <td>0</td>\n",
       "    </tr>\n",
       "    <tr>\n",
       "      <th>4</th>\n",
       "      <td>1.3.6.1.4.1.14519.5.2.1.6279.6001.100225287222...</td>\n",
       "      <td>-32.25</td>\n",
       "      <td>-85.36</td>\n",
       "      <td>-362.51</td>\n",
       "      <td>0</td>\n",
       "    </tr>\n",
       "  </tbody>\n",
       "</table>\n",
       "</div>"
      ],
      "text/plain": [
       "                                           seriesuid  coordX  coordY  coordZ  \\\n",
       "0  1.3.6.1.4.1.14519.5.2.1.6279.6001.100225287222...  -56.08  -67.85 -311.92   \n",
       "1  1.3.6.1.4.1.14519.5.2.1.6279.6001.100225287222...   53.21 -244.41 -245.17   \n",
       "2  1.3.6.1.4.1.14519.5.2.1.6279.6001.100225287222...  103.66 -121.80 -286.62   \n",
       "3  1.3.6.1.4.1.14519.5.2.1.6279.6001.100225287222...  -33.66  -72.75 -308.41   \n",
       "4  1.3.6.1.4.1.14519.5.2.1.6279.6001.100225287222...  -32.25  -85.36 -362.51   \n",
       "\n",
       "   class  \n",
       "0      0  \n",
       "1      0  \n",
       "2      0  \n",
       "3      0  \n",
       "4      0  "
      ]
     },
     "execution_count": 4,
     "metadata": {},
     "output_type": "execute_result"
    }
   ],
   "source": [
    "df_candidates = pd.read_csv('LUNA/candidates.csv')\n",
    "df_candidates.head()"
   ]
  },
  {
   "cell_type": "code",
   "execution_count": 5,
   "id": "365a7f1e",
   "metadata": {},
   "outputs": [
    {
     "data": {
      "text/plain": [
       "(551065, 5)"
      ]
     },
     "execution_count": 5,
     "metadata": {},
     "output_type": "execute_result"
    }
   ],
   "source": [
    "df_candidates.shape"
   ]
  },
  {
   "cell_type": "code",
   "execution_count": 6,
   "id": "1d684abc",
   "metadata": {},
   "outputs": [
    {
     "name": "stdout",
     "output_type": "stream",
     "text": [
      "Total Annotations: 1186, Unique CT scans: 601\n",
      "Total Candidates: 551065, Unique CT scans: 888\n"
     ]
    }
   ],
   "source": [
    "# there are multiple annotations and candidates of a single CT scan\n",
    "\n",
    "print(f'Total Annotations: {df_annotations.shape[0]}, Unique CT scans: {len(df_annotations.seriesuid.unique())}')\n",
    "print(f'Total Candidates: {df_candidates.shape[0]}, Unique CT scans: {len(df_candidates.seriesuid.unique())}')"
   ]
  },
  {
   "cell_type": "code",
   "execution_count": 7,
   "id": "c0c623b6",
   "metadata": {},
   "outputs": [],
   "source": [
    "diameters = {}\n",
    "\n",
    "for _, row in df_annotations.iterrows():\n",
    "    center_xyz = (row.coordX, row.coordY, row.coordZ)\n",
    "    \n",
    "    diameters.setdefault(row.seriesuid, []).append(\n",
    "        (center_xyz, row.diameter_mm)\n",
    "    )"
   ]
  },
  {
   "cell_type": "code",
   "execution_count": 8,
   "id": "34eab6d4",
   "metadata": {},
   "outputs": [
    {
     "data": {
      "text/plain": [
       "601"
      ]
     },
     "execution_count": 8,
     "metadata": {},
     "output_type": "execute_result"
    }
   ],
   "source": [
    "len(diameters)"
   ]
  },
  {
   "cell_type": "markdown",
   "id": "46d458cb",
   "metadata": {},
   "source": [
    "Combining candidates and annotations"
   ]
  },
  {
   "cell_type": "code",
   "execution_count": 9,
   "id": "950e75e3",
   "metadata": {},
   "outputs": [
    {
     "name": "stdout",
     "output_type": "stream",
     "text": [
      "CPU times: user 52.2 s, sys: 94.7 ms, total: 52.2 s\n",
      "Wall time: 52.2 s\n"
     ]
    }
   ],
   "source": [
    "%%time\n",
    "\n",
    "CandidateInfoTuple = namedtuple(\n",
    "    'CandidateInfoTuple',\n",
    "    ['is_nodule', 'diameter_mm', 'series_uid', 'center_xyz']\n",
    ")\n",
    "\n",
    "candidates = []\n",
    "\n",
    "for _, row in df_candidates.iterrows():\n",
    "\n",
    "    candidate_center_xyz = (row.coordX, row.coordY, row.coordZ)\n",
    "\n",
    "    candidate_diameter = 0.0\n",
    "\n",
    "    for annotation in diameters.get(row.seriesuid, []):\n",
    "\n",
    "        annotation_center_xyz, annotation_diameter = annotation\n",
    "\n",
    "        for i in range(3):\n",
    "\n",
    "            delta = abs(candidate_center_xyz[i] - annotation_center_xyz[i])\n",
    "\n",
    "            if delta > annotation_diameter / 4:\n",
    "                    break\n",
    "            \n",
    "\n",
    "        else:\n",
    "            candidate_diameter = annotation_diameter\n",
    "            \n",
    "\n",
    "            break\n",
    "    \n",
    "    candidates.append(CandidateInfoTuple(\n",
    "        bool(row['class']),\n",
    "        candidate_diameter,\n",
    "        row.seriesuid,\n",
    "        candidate_center_xyz\n",
    "    ))"
   ]
  },
  {
   "cell_type": "code",
   "execution_count": 10,
   "id": "94117689",
   "metadata": {},
   "outputs": [],
   "source": [
    "candidates.sort(reverse=True)"
   ]
  },
  {
   "cell_type": "code",
   "execution_count": 11,
   "id": "35663490",
   "metadata": {},
   "outputs": [
    {
     "data": {
      "text/plain": [
       "443"
      ]
     },
     "execution_count": 11,
     "metadata": {},
     "output_type": "execute_result"
    }
   ],
   "source": [
    "with open('LUNA/missing.txt', 'r') as f:\n",
    "    missing_uids = {uid.split('\\n')[0] for uid in f}\n",
    "\n",
    "len(missing_uids)"
   ]
  },
  {
   "cell_type": "code",
   "execution_count": 12,
   "id": "bb0faac7",
   "metadata": {},
   "outputs": [
    {
     "name": "stdout",
     "output_type": "stream",
     "text": [
      "All candidates in dataset: 551065\n",
      "Candidates with CT scan : 275358\n"
     ]
    }
   ],
   "source": [
    "candidates_clean = list(filter(lambda x: x.series_uid not in missing_uids, candidates))\n",
    "\n",
    "print(f'All candidates in dataset: {len(candidates)}')\n",
    "print(f'Candidates with CT scan : {len(candidates_clean)}')"
   ]
  },
  {
   "cell_type": "markdown",
   "id": "283655e5",
   "metadata": {},
   "source": [
    "## Loading the Data"
   ]
  },
  {
   "cell_type": "code",
   "execution_count": 13,
   "id": "c0e4a7db",
   "metadata": {},
   "outputs": [
    {
     "data": {
      "text/plain": [
       "CandidateInfoTuple(is_nodule=True, diameter_mm=32.27003025, series_uid='1.3.6.1.4.1.14519.5.2.1.6279.6001.287966244644280690737019247886', center_xyz=(67.61451718, 85.02525992, -109.8084416))"
      ]
     },
     "execution_count": 13,
     "metadata": {},
     "output_type": "execute_result"
    }
   ],
   "source": [
    "candidate = candidates_clean[0]\n",
    "\n",
    "candidate"
   ]
  },
  {
   "cell_type": "code",
   "execution_count": 14,
   "id": "c4367bfa",
   "metadata": {},
   "outputs": [
    {
     "data": {
      "text/plain": [
       "['LUNA/subset1/subset1/1.3.6.1.4.1.14519.5.2.1.6279.6001.287966244644280690737019247886.mhd']"
      ]
     },
     "execution_count": 14,
     "metadata": {},
     "output_type": "execute_result"
    }
   ],
   "source": [
    "filepaths = glob.glob(f'LUNA/subset*/*/{candidate.series_uid}.mhd')\n",
    "\n",
    "#glob can return multiple files with specified patterns\n",
    "#sanity check for discarded files\n",
    "\n",
    "assert len(filepaths) != 0, f'CT scan with seriesuid {candidate.series_uid} not found!'\n",
    "\n",
    "filepaths"
   ]
  },
  {
   "cell_type": "code",
   "execution_count": 15,
   "id": "8e9f0c5e",
   "metadata": {},
   "outputs": [
    {
     "data": {
      "text/plain": [
       "'LUNA/subset1/subset1/1.3.6.1.4.1.14519.5.2.1.6279.6001.287966244644280690737019247886.mhd'"
      ]
     },
     "execution_count": 15,
     "metadata": {},
     "output_type": "execute_result"
    }
   ],
   "source": [
    "mhd_file_path = filepaths[0]\n",
    "\n",
    "mhd_file_path"
   ]
  },
  {
   "cell_type": "code",
   "execution_count": 16,
   "id": "c2e3214b",
   "metadata": {},
   "outputs": [],
   "source": [
    "# Reading the Image using SimpleITK\n",
    "\n",
    "mhd_file = sitk.ReadImage(mhd_file_path)"
   ]
  },
  {
   "cell_type": "code",
   "execution_count": 17,
   "id": "847ecec4",
   "metadata": {},
   "outputs": [],
   "source": [
    "#store it as numpy array\n",
    "\n",
    "ct_scan = np.array(sitk.GetArrayFromImage(mhd_file), dtype = np.float32)"
   ]
  },
  {
   "cell_type": "code",
   "execution_count": 18,
   "id": "d8691e9b",
   "metadata": {
    "scrolled": true
   },
   "outputs": [
    {
     "data": {
      "text/plain": [
       "array([[[-1000., -1000., -1000., ..., -1000., -1000., -1000.],\n",
       "        [-1000., -1000., -1000., ..., -1000., -1000., -1000.],\n",
       "        [-1000., -1000., -1000., ..., -1000., -1000., -1000.],\n",
       "        ...,\n",
       "        [-1000., -1000., -1000., ..., -1000., -1000., -1000.],\n",
       "        [-1000., -1000., -1000., ..., -1000., -1000., -1000.],\n",
       "        [-1000., -1000., -1000., ..., -1000., -1000., -1000.]],\n",
       "\n",
       "       [[-1000., -1000., -1000., ..., -1000., -1000., -1000.],\n",
       "        [-1000., -1000., -1000., ..., -1000., -1000., -1000.],\n",
       "        [-1000., -1000., -1000., ..., -1000., -1000., -1000.],\n",
       "        ...,\n",
       "        [-1000., -1000., -1000., ..., -1000., -1000., -1000.],\n",
       "        [-1000., -1000., -1000., ..., -1000., -1000., -1000.],\n",
       "        [-1000., -1000., -1000., ..., -1000., -1000., -1000.]],\n",
       "\n",
       "       [[-1000., -1000., -1000., ..., -1000., -1000., -1000.],\n",
       "        [-1000., -1000., -1000., ..., -1000., -1000., -1000.],\n",
       "        [-1000., -1000., -1000., ..., -1000., -1000., -1000.],\n",
       "        ...,\n",
       "        [-1000., -1000., -1000., ..., -1000., -1000., -1000.],\n",
       "        [-1000., -1000., -1000., ..., -1000., -1000., -1000.],\n",
       "        [-1000., -1000., -1000., ..., -1000., -1000., -1000.]],\n",
       "\n",
       "       ...,\n",
       "\n",
       "       [[-1000., -1000., -1000., ..., -1000., -1000., -1000.],\n",
       "        [-1000., -1000., -1000., ..., -1000., -1000., -1000.],\n",
       "        [-1000., -1000., -1000., ..., -1000., -1000., -1000.],\n",
       "        ...,\n",
       "        [-1000., -1000., -1000., ..., -1000., -1000., -1000.],\n",
       "        [-1000., -1000., -1000., ..., -1000., -1000., -1000.],\n",
       "        [-1000., -1000., -1000., ..., -1000., -1000., -1000.]],\n",
       "\n",
       "       [[-1000., -1000., -1000., ..., -1000., -1000., -1000.],\n",
       "        [-1000., -1000., -1000., ..., -1000., -1000., -1000.],\n",
       "        [-1000., -1000., -1000., ..., -1000., -1000., -1000.],\n",
       "        ...,\n",
       "        [-1000., -1000., -1000., ..., -1000., -1000., -1000.],\n",
       "        [-1000., -1000., -1000., ..., -1000., -1000., -1000.],\n",
       "        [-1000., -1000., -1000., ..., -1000., -1000., -1000.]],\n",
       "\n",
       "       [[-1000., -1000., -1000., ..., -1000., -1000., -1000.],\n",
       "        [-1000., -1000., -1000., ..., -1000., -1000., -1000.],\n",
       "        [-1000., -1000., -1000., ..., -1000., -1000., -1000.],\n",
       "        ...,\n",
       "        [-1000., -1000., -1000., ..., -1000., -1000., -1000.],\n",
       "        [-1000., -1000., -1000., ..., -1000., -1000., -1000.],\n",
       "        [-1000., -1000., -1000., ..., -1000., -1000., -1000.]]],\n",
       "      dtype=float32)"
      ]
     },
     "execution_count": 18,
     "metadata": {},
     "output_type": "execute_result"
    }
   ],
   "source": [
    "ct_scan.clip(-1000, 1000, ct_scan)"
   ]
  },
  {
   "cell_type": "code",
   "execution_count": 19,
   "id": "af9b113c",
   "metadata": {},
   "outputs": [],
   "source": [
    "origin_xyz = mhd_file.GetOrigin()\n",
    "voxel_size_xyz = mhd_file.GetSpacing()\n",
    "direction_matrix = np.array(mhd_file.GetDirection()).reshape(3, 3)"
   ]
  },
  {
   "cell_type": "code",
   "execution_count": 20,
   "id": "0dffd7da",
   "metadata": {},
   "outputs": [],
   "source": [
    "origin_xyz_np = np.array(origin_xyz)\n",
    "voxel_size_xyz_np = np.array(voxel_size_xyz)"
   ]
  },
  {
   "cell_type": "code",
   "execution_count": 21,
   "id": "b0b32434",
   "metadata": {},
   "outputs": [],
   "source": [
    "# Patient Coordinate System --> CRI Voxel Coordinate System\n",
    "\n",
    "cri = ((center_xyz - origin_xyz_np) @ np.linalg.inv(direction_matrix)) / voxel_size_xyz_np\n",
    "\n",
    "cri  = np.round(cri)\n",
    "\n",
    "\n",
    "# CRI --> IRC\n",
    "\n",
    "irc = (int(cri[2]), int(cri[1]), int(cri[0]))"
   ]
  },
  {
   "cell_type": "code",
   "execution_count": 22,
   "id": "8737a8fd",
   "metadata": {},
   "outputs": [
    {
     "data": {
      "text/plain": [
       "(123, 512, 512)"
      ]
     },
     "execution_count": 22,
     "metadata": {},
     "output_type": "execute_result"
    }
   ],
   "source": [
    "ct_scan.shape"
   ]
  },
  {
   "cell_type": "code",
   "execution_count": 23,
   "id": "e768ec89",
   "metadata": {},
   "outputs": [],
   "source": [
    "# extract a chunk of size 10 along the index column, and 18 rows and columns.\n",
    "\n",
    "dims_irc = (10, 18, 18)"
   ]
  },
  {
   "cell_type": "code",
   "execution_count": 24,
   "id": "ad4b5a97",
   "metadata": {},
   "outputs": [
    {
     "data": {
      "text/plain": [
       "(slice(68, 78, None), slice(288, 306, None), slice(223, 241, None))"
      ]
     },
     "execution_count": 24,
     "metadata": {},
     "output_type": "execute_result"
    }
   ],
   "source": [
    "\n",
    "slice_list = []\n",
    "\n",
    "for axis, center_val in enumerate(irc):\n",
    "    \n",
    "\n",
    "    start_index = int(round(center_val - dims_irc[axis]/2))\n",
    "    end_index = int(start_index + dims_irc[axis])\n",
    "\n",
    "\n",
    "    if start_index < 0:\n",
    "        start_index = 0\n",
    "        end_index = int(dims_irc[axis])\n",
    "    \n",
    "\n",
    "    if end_index > ct_scan.shape[axis]:\n",
    "        end_index = ct_scan.shape[axis]\n",
    "        start_index = int(ct_scan.shape[axis] - dims_irc[axis])\n",
    "        \n",
    "    slice_list.append(slice(start_index, end_index))\n",
    "    \n",
    "tuple(slice_list)"
   ]
  },
  {
   "cell_type": "code",
   "execution_count": 25,
   "id": "d22a207f",
   "metadata": {},
   "outputs": [
    {
     "data": {
      "text/plain": [
       "(10, 18, 18)"
      ]
     },
     "execution_count": 25,
     "metadata": {},
     "output_type": "execute_result"
    }
   ],
   "source": [
    "ct_scan_chunk = ct_scan[tuple(slice_list)]\n",
    "ct_scan_chunk.shape"
   ]
  },
  {
   "cell_type": "code",
   "execution_count": 26,
   "id": "6789bb2d",
   "metadata": {},
   "outputs": [
    {
     "data": {
      "text/plain": [
       "True"
      ]
     },
     "execution_count": 26,
     "metadata": {},
     "output_type": "execute_result"
    }
   ],
   "source": [
    "candidate.is_nodule"
   ]
  },
  {
   "cell_type": "code",
   "execution_count": 27,
   "id": "010e2d55",
   "metadata": {},
   "outputs": [
    {
     "data": {
      "text/plain": [
       "tensor([0, 1])"
      ]
     },
     "execution_count": 27,
     "metadata": {},
     "output_type": "execute_result"
    }
   ],
   "source": [
    "# is_nodule tensor\n",
    "\n",
    "torch.tensor([\n",
    "    not candidate.is_nodule,\n",
    "    candidate.is_nodule,\n",
    "], dtype = torch.long)"
   ]
  },
  {
   "cell_type": "code",
   "execution_count": 28,
   "id": "cbc092f1",
   "metadata": {},
   "outputs": [],
   "source": [
    "# convert ct scan chunk ---> Pytorch tensor\n",
    "\n",
    "# The code in this cell is from the Deep Learning with PyTorch book's GitHub repository\n",
    "# https://github.com/deep-learning-with-pytorch/dlwpt-code/blob/master/util/disk.py\n",
    "\n",
    "# The imports have slightly been modified to make the code work\n",
    "\n",
    "\n",
    "import gzip\n",
    "\n",
    "from cassandra.cqltypes import BytesType\n",
    "from diskcache import FanoutCache, Disk, core\n",
    "from diskcache.core import io, MODE_BINARY\n",
    "from io import BytesIO\n",
    "\n",
    "class GzipDisk(Disk):\n",
    "    def store(self, value, read, key=None):\n",
    "\n",
    "        # pylint: disable=unidiomatic-typecheck\n",
    "        if type(value) is BytesType:\n",
    "            if read:\n",
    "                value = value.read()\n",
    "                read = False\n",
    "\n",
    "            str_io = BytesIO()\n",
    "            gz_file = gzip.GzipFile(mode='wb', compresslevel=1, fileobj=str_io)\n",
    "\n",
    "            for offset in range(0, len(value), 2**30):\n",
    "                gz_file.write(value[offset:offset+2**30])\n",
    "            gz_file.close()\n",
    "\n",
    "            value = str_io.getvalue()\n",
    "\n",
    "        return super(GzipDisk, self).store(value, read)\n",
    "\n",
    "\n",
    "    def fetch(self, mode, filename, value, read):\n",
    "\n",
    "        value = super(GzipDisk, self).fetch(mode, filename, value, read)\n",
    "\n",
    "        if mode == MODE_BINARY:\n",
    "            str_io = BytesIO(value)\n",
    "            gz_file = gzip.GzipFile(mode='rb', fileobj=str_io)\n",
    "            read_csio = BytesIO()\n",
    "\n",
    "            while True:\n",
    "                uncompressed_data = gz_file.read(2**30)\n",
    "                if uncompressed_data:\n",
    "                    read_csio.write(uncompressed_data)\n",
    "                else:\n",
    "                    break\n",
    "\n",
    "            value = read_csio.getvalue()\n",
    "\n",
    "        return value\n",
    "\n",
    "def getCache(scope_str):\n",
    "    return FanoutCache('data-unversioned/cache/' + scope_str,\n",
    "                       disk=GzipDisk,\n",
    "                       shards=64,\n",
    "                       timeout=1,\n",
    "                       size_limit=3e11,\n",
    "                       )\n",
    "\n",
    "raw_cache = getCache('ct_scan_raw')\n",
    "\n",
    "@raw_cache.memoize(typed=True)\n",
    "def getCtScanChunk(series_uid, center_xyz, dims_irc):\n",
    "\n",
    "        filepaths = glob.glob(f'LUNA/subset*/*/{series_uid}.mhd')\n",
    "        assert len(filepaths) != 0, f'CT scan with seriesuid {series_uid} not found!'\n",
    "        mhd_file_path = filepaths[0]\n",
    "        \n",
    "        mhd_file = sitk.ReadImage(mhd_file_path)\n",
    "        ct_scan = np.array(sitk.GetArrayFromImage(mhd_file), dtype=np.float32)\n",
    "        ct_scan.clip(-1000, 1000, ct_scan)\n",
    "        \n",
    "        origin_xyz = mhd_file.GetOrigin()\n",
    "        voxel_size_xyz = mhd_file.GetSpacing()\n",
    "        direction_matrix = np.array(mhd_file.GetDirection()).reshape(3, 3)\n",
    "        \n",
    "        origin_xyz_np = np.array(origin_xyz)\n",
    "        voxel_size_xyz_np = np.array(voxel_size_xyz)\n",
    "        \n",
    "        cri = ((center_xyz - origin_xyz_np) @ np.linalg.inv(direction_matrix)) / voxel_size_xyz_np\n",
    "        cri = np.round(cri)\n",
    "        irc = (int(cri[2]), int(cri[1]), int(cri[0]))\n",
    "        \n",
    "        slice_list = []\n",
    "        for axis, center_val in enumerate(irc):\n",
    "            \n",
    "            start_index = int(round(center_val - dims_irc[axis]/2))\n",
    "            end_index = int(start_index + dims_irc[axis])\n",
    "            \n",
    "            if start_index < 0:\n",
    "                start_index = 0\n",
    "                end_index = int(dims_irc[axis])\n",
    "                \n",
    "            if end_index > ct_scan.shape[axis]:\n",
    "                end_index = ct_scan.shape[axis]\n",
    "                start_index = int(ct_scan.shape[axis] - dims_irc[axis])\n",
    "\n",
    "            slice_list.append(slice(start_index, end_index))\n",
    "            \n",
    "        ct_scan_chunk = ct_scan[tuple(slice_list)]\n",
    "        \n",
    "        return ct_scan_chunk\n"
   ]
  },
  {
   "cell_type": "code",
   "execution_count": 29,
   "id": "b7fc01d7",
   "metadata": {},
   "outputs": [],
   "source": [
    "# Creating PyTorch Dataset\n",
    "\n",
    "class LunaDataset(Dataset):\n",
    "    def __init__(self, is_validation_set = False, validation_stride = 0):\n",
    "        self.candidates = copy.copy(candidates_clean[::350])\n",
    "        \n",
    "        if is_validation_set:\n",
    "            self.candidates = self.candidates[::validation_stride]\n",
    "            \n",
    "        else:\n",
    "            del self.candidates[::validation_stride]\n",
    "            \n",
    "    def __len__(self):\n",
    "        return len(self.candidates)\n",
    "    \n",
    "    def __getitem__(self, i):\n",
    "        candidate = self.candidates[i]\n",
    "        dims_irc = (10, 18, 18)\n",
    "        ct_scan_np = getCtScanChunk(candidate.series_uid, candidate.center_xyz, dims_irc)\n",
    "        \n",
    "        ct_scan_tensor = torch.from_numpy(ct_scan_np).to(torch.float32).unsqueeze(0)\n",
    "        \n",
    "        label_tensor = torch.tensor([\n",
    "            not candidate.is_nodule,\n",
    "            candidate.is_nodule\n",
    "        ], dtype=torch.long)\n",
    "        \n",
    "        return ct_scan_tensor, label_tensor\n",
    "        "
   ]
  },
  {
   "cell_type": "code",
   "execution_count": 30,
   "id": "28ae822b",
   "metadata": {},
   "outputs": [],
   "source": [
    "VALIDATION_STRIDE = 10 # every 10th CT Scan will be in Validation dataset\n",
    "BS=16\n",
    "\n",
    "train_ds = LunaDataset(is_validation_set = False, validation_stride =  VALIDATION_STRIDE)\n",
    "val_ds = LunaDataset(is_validation_set = True, validation_stride = VALIDATION_STRIDE)\n",
    "\n",
    "train_dl = DataLoader(train_ds, batch_size=BS, num_workers=0)\n",
    "val_dl = DataLoader(val_ds, batch_size=BS, num_workers=0)"
   ]
  },
  {
   "cell_type": "code",
   "execution_count": 43,
   "id": "c5e35bbe",
   "metadata": {},
   "outputs": [],
   "source": [
    "def train_loop(model, dataloader, criterion, optimizer, ds_size):\n",
    "\n",
    "\n",
    "    model.train()\n",
    "\n",
    "    running_loss = 0.0\n",
    "    running_corrects = 0\n",
    "\n",
    "    running_pos = 0\n",
    "    running_pos_correct = 0\n",
    "\n",
    "    running_neg = 0\n",
    "    running_neg_correct = 0\n",
    "    \n",
    "    for inputs, labels in tqdm(dataloader):\n",
    "        \n",
    "        inputs = inputs.to(device)\n",
    "        labels = labels.to(device)\n",
    "\n",
    "        optimizer.zero_grad()\n",
    "        \n",
    "        outputs = model(inputs)\n",
    "        _, preds = torch.max(outputs, 1)\n",
    "        \n",
    "        loss = criterion(outputs, labels[:,1])\n",
    "        loss.backward()\n",
    "        \n",
    "        optimizer.step()\n",
    "\n",
    "        running_loss += loss.item() * inputs.size(0)\n",
    "        running_corrects += torch.sum(preds == labels.data[:,1])\n",
    "        \n",
    "\n",
    "        running_pos += labels.data[:,1].sum()\n",
    "        running_pos_correct += ((preds == labels.data[:,1]) & (labels.data[:,1] == 1)).sum()\n",
    "        \n",
    "\n",
    "        running_neg += labels.data[:,0].sum()\n",
    "        running_neg_correct += ((preds == labels.data[:,1]) & (labels.data[:,1] == 0)).sum()\n",
    "\n",
    "    epoch_loss = running_loss / ds_size\n",
    "    epoch_acc = running_corrects.double() / ds_size\n",
    "    \n",
    "    return epoch_loss, epoch_acc, (running_pos_correct, running_pos), (running_neg_correct, running_neg)\n",
    "    \n",
    "    \n",
    "\n",
    "def eval_loop(model, dataloader, criterion, ds_size):\n",
    "\n",
    "\n",
    "\n",
    "    model.eval()\n",
    "\n",
    "\n",
    "    running_loss = 0.0\n",
    "    running_corrects = 0\n",
    "    \n",
    "    running_pos = 0\n",
    "    running_pos_correct = 0\n",
    "    running_neg = 0\n",
    "    running_neg_correct = 0\n",
    "    \n",
    "\n",
    "    with torch.no_grad():\n",
    "    \n",
    "        for inputs, labels in tqdm(dataloader):\n",
    "            inputs = inputs.to(device)\n",
    "            labels = labels.to(device)\n",
    "        \n",
    "            outputs = model(inputs)\n",
    "            _, preds = torch.max(outputs, 1)\n",
    "            loss = criterion(outputs, labels[:,1])\n",
    "        \n",
    "            running_loss += loss.item() * inputs.size(0)\n",
    "            running_corrects += torch.sum(preds == labels.data[:,1])\n",
    "            \n",
    "            running_pos += labels.data[:,1].sum()\n",
    "            running_pos_correct += ((preds == labels.data[:,1]) & (labels.data[:,1] == 1)).sum()\n",
    "\n",
    "            running_neg += labels.data[:,0].sum()\n",
    "            running_neg_correct += ((preds == labels.data[:,1]) & (labels.data[:,1] == 0)).sum()\n",
    "        \n",
    "    epoch_loss = running_loss / ds_size\n",
    "    epoch_acc = running_corrects.double() / ds_size\n",
    "    \n",
    "    return epoch_loss, epoch_acc, (running_pos_correct, running_pos), (running_neg_correct, running_neg)"
   ]
  },
  {
   "cell_type": "markdown",
   "id": "8d457da8",
   "metadata": {},
   "source": [
    "## Train the Model"
   ]
  },
  {
   "cell_type": "code",
   "execution_count": 44,
   "id": "1ac9a895",
   "metadata": {},
   "outputs": [],
   "source": [
    "class LunaModel(nn.Module):\n",
    "    def __init__(self):\n",
    "        \n",
    "        super().__init__()\n",
    "        \n",
    "        self.conv1 = nn.Conv3d(1, 32, kernel_size=3, padding=1, bias=True)\n",
    "        self.relu1 = nn.ReLU()\n",
    "        self.maxpool1 = nn.MaxPool3d(2)\n",
    "        \n",
    "        self.conv2 = nn.Conv3d(32, 64, kernel_size=3, padding=1, bias =True)\n",
    "        self.relu2 = nn.ReLU()\n",
    "        self.maxpool2 = nn.MaxPool3d(2)\n",
    "        \n",
    "        self.flatten = nn.Flatten()\n",
    "        \n",
    "        self.fc1 = nn.Linear(2048, 1024)\n",
    "        self.relu3 = nn.ReLU()\n",
    "        \n",
    "        self.dropout = nn.Dropout(0.2)\n",
    "        \n",
    "        self.fc2 = nn.Linear(1024, 2)\n",
    "        \n",
    "    def forward(self, X):\n",
    "        \n",
    "        X = self.maxpool1(self.relu1(self.conv1(X)))\n",
    "        X = self.maxpool2(self.relu2(self.conv2(X)))\n",
    "        \n",
    "        X = self.flatten(X)\n",
    "        \n",
    "        X = self.relu3(self.fc1(X))\n",
    "        X = self.dropout(X)\n",
    "        \n",
    "        return self.fc2(X)"
   ]
  },
  {
   "cell_type": "code",
   "execution_count": 45,
   "id": "0f912f74",
   "metadata": {},
   "outputs": [],
   "source": [
    "model = LunaModel()\n",
    "\n",
    "device = torch.device(\"cuda:0\" if torch.cuda.is_available() else \"cpu\")\n",
    "model = model.to(device)\n",
    "\n",
    "criterion = nn.CrossEntropyLoss()\n",
    "\n",
    "optimizer = optim.AdamW(model.parameters(), weight_decay = 0.1)"
   ]
  },
  {
   "cell_type": "code",
   "execution_count": 46,
   "id": "60bcccc4",
   "metadata": {},
   "outputs": [
    {
     "data": {
      "application/vnd.jupyter.widget-view+json": {
       "model_id": "52a767fbf1984cab860a1fe50582c26b",
       "version_major": 2,
       "version_minor": 0
      },
      "text/plain": [
       "  0%|          | 0/45 [00:00<?, ?it/s]"
      ]
     },
     "metadata": {},
     "output_type": "display_data"
    },
    {
     "data": {
      "application/vnd.jupyter.widget-view+json": {
       "model_id": "690ea6d178a9404f8761aab33ba6d722",
       "version_major": 2,
       "version_minor": 0
      },
      "text/plain": [
       "  0%|          | 0/5 [00:00<?, ?it/s]"
      ]
     },
     "metadata": {},
     "output_type": "display_data"
    },
    {
     "name": "stdout",
     "output_type": "stream",
     "text": [
      "Epoch: 01 | Epoch Time: 12m 15s\n",
      "\n",
      "\tTrain Loss: 0.206 | Train Acc: 99.29%\n",
      "\tTrain - correct pos: 0/2 | correct neg: 703/706\n",
      "\n",
      "\tVal. Loss: 9.557 |  Val. Acc: 98.73%\n",
      "\tVal. - correct pos: 0/1 | correct neg: 78/78\n",
      "\n"
     ]
    },
    {
     "data": {
      "application/vnd.jupyter.widget-view+json": {
       "model_id": "2bcbf0f0f78c433da9bd112ad0db8a15",
       "version_major": 2,
       "version_minor": 0
      },
      "text/plain": [
       "  0%|          | 0/45 [00:00<?, ?it/s]"
      ]
     },
     "metadata": {},
     "output_type": "display_data"
    },
    {
     "data": {
      "application/vnd.jupyter.widget-view+json": {
       "model_id": "03d33002d5f548729b59117c55c8bf74",
       "version_major": 2,
       "version_minor": 0
      },
      "text/plain": [
       "  0%|          | 0/5 [00:00<?, ?it/s]"
      ]
     },
     "metadata": {},
     "output_type": "display_data"
    },
    {
     "name": "stdout",
     "output_type": "stream",
     "text": [
      "Epoch: 02 | Epoch Time: 0m 1s\n",
      "\n",
      "\tTrain Loss: 84.636 | Train Acc: 97.46%\n",
      "\tTrain - correct pos: 0/2 | correct neg: 690/706\n",
      "\n",
      "\tVal. Loss: 72.713 |  Val. Acc: 98.73%\n",
      "\tVal. - correct pos: 0/1 | correct neg: 78/78\n",
      "\n"
     ]
    },
    {
     "data": {
      "application/vnd.jupyter.widget-view+json": {
       "model_id": "b418c23d69d8481db46f11843ccf04ec",
       "version_major": 2,
       "version_minor": 0
      },
      "text/plain": [
       "  0%|          | 0/45 [00:00<?, ?it/s]"
      ]
     },
     "metadata": {},
     "output_type": "display_data"
    },
    {
     "data": {
      "application/vnd.jupyter.widget-view+json": {
       "model_id": "446a18fb016c48cca8cf3f975efc4f8d",
       "version_major": 2,
       "version_minor": 0
      },
      "text/plain": [
       "  0%|          | 0/5 [00:00<?, ?it/s]"
      ]
     },
     "metadata": {},
     "output_type": "display_data"
    },
    {
     "name": "stdout",
     "output_type": "stream",
     "text": [
      "Epoch: 03 | Epoch Time: 0m 1s\n",
      "\n",
      "\tTrain Loss: 127.073 | Train Acc: 99.72%\n",
      "\tTrain - correct pos: 0/2 | correct neg: 706/706\n",
      "\n",
      "\tVal. Loss: 2.982 |  Val. Acc: 98.73%\n",
      "\tVal. - correct pos: 0/1 | correct neg: 78/78\n",
      "\n"
     ]
    },
    {
     "data": {
      "application/vnd.jupyter.widget-view+json": {
       "model_id": "0900e08c85854dbe817f8200dfbd0392",
       "version_major": 2,
       "version_minor": 0
      },
      "text/plain": [
       "  0%|          | 0/45 [00:00<?, ?it/s]"
      ]
     },
     "metadata": {},
     "output_type": "display_data"
    },
    {
     "data": {
      "application/vnd.jupyter.widget-view+json": {
       "model_id": "794de222d4c54649bf09da3dbec00f04",
       "version_major": 2,
       "version_minor": 0
      },
      "text/plain": [
       "  0%|          | 0/5 [00:00<?, ?it/s]"
      ]
     },
     "metadata": {},
     "output_type": "display_data"
    },
    {
     "name": "stdout",
     "output_type": "stream",
     "text": [
      "Epoch: 04 | Epoch Time: 0m 1s\n",
      "\n",
      "\tTrain Loss: 8.991 | Train Acc: 99.58%\n",
      "\tTrain - correct pos: 0/2 | correct neg: 705/706\n",
      "\n",
      "\tVal. Loss: 2.520 |  Val. Acc: 98.73%\n",
      "\tVal. - correct pos: 0/1 | correct neg: 78/78\n",
      "\n"
     ]
    },
    {
     "data": {
      "application/vnd.jupyter.widget-view+json": {
       "model_id": "ec434b9571554c5586377652f0338937",
       "version_major": 2,
       "version_minor": 0
      },
      "text/plain": [
       "  0%|          | 0/45 [00:00<?, ?it/s]"
      ]
     },
     "metadata": {},
     "output_type": "display_data"
    },
    {
     "data": {
      "application/vnd.jupyter.widget-view+json": {
       "model_id": "4d82d710c04442ffa63192015d85ff79",
       "version_major": 2,
       "version_minor": 0
      },
      "text/plain": [
       "  0%|          | 0/5 [00:00<?, ?it/s]"
      ]
     },
     "metadata": {},
     "output_type": "display_data"
    },
    {
     "name": "stdout",
     "output_type": "stream",
     "text": [
      "Epoch: 05 | Epoch Time: 0m 1s\n",
      "\n",
      "\tTrain Loss: 3.656 | Train Acc: 99.58%\n",
      "\tTrain - correct pos: 0/2 | correct neg: 705/706\n",
      "\n",
      "\tVal. Loss: 0.895 |  Val. Acc: 98.73%\n",
      "\tVal. - correct pos: 0/1 | correct neg: 78/78\n",
      "\n"
     ]
    }
   ],
   "source": [
    "EPOCHS = 5\n",
    "\n",
    "for epoch in range(EPOCHS):\n",
    "\n",
    "    epoch_start = time.time()\n",
    "\n",
    "    train_loss, train_acc, train_pos, train_neg = train_loop(\n",
    "        model, train_dl, criterion,\n",
    "        optimizer, len(train_ds)\n",
    "    )\n",
    "\n",
    "    val_loss, val_acc, val_pos, val_neg = eval_loop(\n",
    "        model, val_dl, criterion, len(val_ds)\n",
    "    )\n",
    "\n",
    "    time_elapsed = time.time() - epoch_start\n",
    "    print(f'Epoch: {epoch+1:02} | Epoch Time: {time_elapsed // 60:.0f}m {time_elapsed % 60:.0f}s')\n",
    "    print()\n",
    "    print(f'\\tTrain Loss: {train_loss:.3f} | Train Acc: {train_acc*100:.2f}%')\n",
    "    print(f'\\tTrain - correct pos: {train_pos[0]}/{train_pos[1]} | correct neg: {train_neg[0]}/{train_neg[1]}')\n",
    "    print()\n",
    "    print(f'\\tVal. Loss: {val_loss:.3f} |  Val. Acc: {val_acc*100:.2f}%')\n",
    "    print(f'\\tVal. - correct pos: {val_pos[0]}/{val_pos[1]} | correct neg: {val_neg[0]}/{val_neg[1]}')\n",
    "    print()"
   ]
  },
  {
   "cell_type": "code",
   "execution_count": null,
   "id": "29624521",
   "metadata": {},
   "outputs": [],
   "source": []
  }
 ],
 "metadata": {
  "kernelspec": {
   "display_name": "Python 3.7 (pytorch)",
   "language": "python",
   "name": "pytorch"
  },
  "language_info": {
   "codemirror_mode": {
    "name": "ipython",
    "version": 3
   },
   "file_extension": ".py",
   "mimetype": "text/x-python",
   "name": "python",
   "nbconvert_exporter": "python",
   "pygments_lexer": "ipython3",
   "version": "3.8.10"
  }
 },
 "nbformat": 4,
 "nbformat_minor": 5
}
